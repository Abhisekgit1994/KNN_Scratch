{
  "nbformat": 4,
  "nbformat_minor": 0,
  "metadata": {
    "colab": {
      "name": "knnfromscratch.ipynb",
      "provenance": [],
      "collapsed_sections": []
    },
    "kernelspec": {
      "name": "python3",
      "display_name": "Python 3"
    },
    "language_info": {
      "name": "python"
    }
  },
  "cells": [
    {
      "cell_type": "code",
      "source": [
        "import pandas as pd  \n",
        "import numpy as np \n",
        "from sklearn.model_selection import train_test_split\n",
        "from scipy.spatial import distance\n",
        "from scipy.stats import mode\n",
        "from sklearn.neighbors import KNeighborsClassifier\n",
        "from sklearn.metrics import accuracy_score,confusion_matrix,precision_score"
      ],
      "metadata": {
        "id": "8N_9jEpTwpVw"
      },
      "execution_count": 3,
      "outputs": []
    },
    {
      "cell_type": "code",
      "source": [
        "class Knearestneighbors():\n",
        "    # initializing k through instance\n",
        "    def __init__(self,k):\n",
        "        self.k = k\n",
        "    # initializing x_train and y_train\n",
        "    def fit(self,x_train,y_train):\n",
        "        self.x_train = x_train\n",
        "        self.y_train = y_train\n",
        "\n",
        "   # euclidean distance function\n",
        "    def calculate_distance(self,p1,p2):\n",
        "        e_dist = distance.euclidean(p2,p1)\n",
        "        return e_dist\n",
        "\n",
        " # iterating over each test point and claculate distance with the x_train points to get the target class\n",
        "    def predict_class(self,x_test):\n",
        "        self.x_test = x_test\n",
        "        self.prediction = []\n",
        "\n",
        "        for each in self.x_test.index:   # each: test data index\n",
        "        # list for storing all distance values for 1 test data point and all train data points\n",
        "            all_distance = []\n",
        "            #for each query point calculate the distance from all training points\n",
        "            for p_id in range(len(self.x_train)):\n",
        "                distance =  self.calculate_distance(self.x_train.iloc[p_id].values, self.x_test.iloc[each].values)\n",
        "                all_distance.append(distance)\n",
        "            all_distance = np.array(all_distance)\n",
        "\n",
        "            # sorting the distance from nearest to farthest distance\n",
        "            sorted_distance = np.argsort(all_distance)\n",
        "\n",
        "            # getting indices of the k nearest points\n",
        "            k_nearest_points_indices = sorted_distance[:self.k]\n",
        "\n",
        "            # getting the y_train values the test point can belong to from the k_nearest_points_indices\n",
        "            target_values= list(self.y_train['target'][k_nearest_points_indices].values)\n",
        "\n",
        "            # majority voting through mode to find which k nearest neighbor the test data belongs to\n",
        "            # [0][0] to get the numerical value from mode result\n",
        "            target_label = mode(target_values)[0][0]\n",
        "            self.prediction.append(target_label)\n",
        "\n",
        "    # to print the accuracy after prediction\n",
        "    def evaluate(self,y_test):\n",
        "        print(\"accuracy score: \",accuracy_score(y_test,self.prediction))\n",
        "        print(\"precision score: \",precision_score(y_test,self.prediction,average='micro'))"
      ],
      "metadata": {
        "id": "N7Lkw23mxPR_"
      },
      "execution_count": 54,
      "outputs": []
    },
    {
      "cell_type": "code",
      "source": [
        "# prediction on IRIS dataset\n",
        "from sklearn.datasets import load_iris\n",
        "features = pd.DataFrame(load_iris()['data'],columns=load_iris().feature_names)\n",
        "target = pd.DataFrame(load_iris()['target'],columns=['target'])\n",
        "data = pd.concat([features,target],axis=1)\n",
        "X = data.drop('target',axis=1)\n",
        "y = data[['target']]"
      ],
      "metadata": {
        "id": "RDhQJs3CxPN_"
      },
      "execution_count": 55,
      "outputs": []
    },
    {
      "cell_type": "code",
      "source": [
        "X_train, X_test, y_train, y_test  = train_test_split(X,y,test_size=0.2,random_state=2)\n",
        "X_train.reset_index(inplace=True,drop=True)\n",
        "X_test.reset_index(inplace=True,drop=True)\n",
        "y_train.reset_index(inplace=True,drop=True)\n",
        "y_test.reset_index(inplace=True,drop=True)"
      ],
      "metadata": {
        "id": "7qwJfPftxPIn"
      },
      "execution_count": 56,
      "outputs": []
    },
    {
      "cell_type": "code",
      "execution_count": 57,
      "metadata": {
        "id": "XIao_a-RvHg9"
      },
      "outputs": [],
      "source": [
        "myknn = Knearestneighbors(k=3)"
      ]
    },
    {
      "cell_type": "code",
      "source": [
        "myknn.fit(X_train,y_train)"
      ],
      "metadata": {
        "id": "crGjuhJ-3BpA"
      },
      "execution_count": 58,
      "outputs": []
    },
    {
      "cell_type": "code",
      "source": [
        "myknn.predict_class(X_test)"
      ],
      "metadata": {
        "id": "wY3r-ZiX3UM4"
      },
      "execution_count": 59,
      "outputs": []
    },
    {
      "cell_type": "code",
      "source": [
        "myknn.evaluate(y_test)"
      ],
      "metadata": {
        "colab": {
          "base_uri": "https://localhost:8080/"
        },
        "id": "Ar9X5bFT3X7H",
        "outputId": "60908021-451c-4d5a-d460-4e59b766ae3e"
      },
      "execution_count": 60,
      "outputs": [
        {
          "output_type": "stream",
          "name": "stdout",
          "text": [
            "accuracy score:  1.0\n",
            "precision score:  1.0\n"
          ]
        }
      ]
    },
    {
      "cell_type": "code",
      "source": [
        ""
      ],
      "metadata": {
        "id": "sgDQW1k03vNI"
      },
      "execution_count": 60,
      "outputs": []
    }
  ]
}